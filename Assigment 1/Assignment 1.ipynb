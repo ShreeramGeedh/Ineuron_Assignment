{
 "cells": [
  {
   "cell_type": "markdown",
   "id": "f787b98a",
   "metadata": {},
   "source": [
    "# 1. In the below elements which of them are values or an expression? eg:- values can be integer or string and expressions will be mathematical operators.\n",
    "\n",
    "*\n",
    "\n",
    "'hello'\n",
    "\n",
    "-87.8\n",
    "\n",
    "-\n",
    "\n",
    "/ \n",
    "\n",
    "+\n",
    "\n",
    "6 "
   ]
  },
  {
   "cell_type": "markdown",
   "id": "7085159e",
   "metadata": {},
   "source": [
    "Answer:\n",
    "\n",
    "*: Expressions\n",
    "\n",
    "'hello': Value\n",
    "\n",
    "-87.8 : Value\n",
    "\n",
    "-: Expressions\n",
    "\n",
    "/ : Expressions\n",
    "\n",
    "+: Expressions\n",
    "\n",
    "6 - Value"
   ]
  },
  {
   "cell_type": "markdown",
   "id": "4da3ffd0",
   "metadata": {},
   "source": [
    "2. What is the difference between string and variable?"
   ]
  },
  {
   "cell_type": "markdown",
   "id": "e4dbbfd7",
   "metadata": {},
   "source": [
    "# 2. What is the difference between string and variable"
   ]
  },
  {
   "cell_type": "markdown",
   "id": "481a7979",
   "metadata": {},
   "source": [
    "Answer: \n",
    "    \n",
    "    If we see a string and variable are comes in the same picture but with totally different nature.\n",
    "    \n",
    "    The variable is a symbolic name location used to store data in memory. \n",
    "    \n",
    "    But in the string on the other hand are the sequence of characters data which we store into variables. \n",
    "    \n",
    "    In simple language we can differentiate string and variable with the example like the variable is bottle and string is water where we have to store water in a bottle same here we have to store the string in a variable.\n"
   ]
  },
  {
   "cell_type": "markdown",
   "id": "79ae0af5",
   "metadata": {},
   "source": [
    "# 3. Describe three different data types."
   ]
  },
  {
   "cell_type": "markdown",
   "id": "92e68411",
   "metadata": {},
   "source": [
    "So, in Python, we have a total of 9 data types."
   ]
  },
  {
   "cell_type": "markdown",
   "id": "2be0c684",
   "metadata": {},
   "source": [
    "1.\tInteger: Integer datatype stores the whole number. The integer should be positive or negative whole numbers with no decimal point. We can declare an integer by VariableName = Number."
   ]
  },
  {
   "cell_type": "code",
   "execution_count": 4,
   "id": "d3dfd9a5",
   "metadata": {},
   "outputs": [
    {
     "name": "stdout",
     "output_type": "stream",
     "text": [
      "5\n"
     ]
    }
   ],
   "source": [
    "#Example:\n",
    "x = 5\n",
    "print(x)"
   ]
  },
  {
   "cell_type": "markdown",
   "id": "f18eb129",
   "metadata": {},
   "source": [
    "2.\tString: Strings in Python are the sequence of character data. The string type in Python is called str. They are created by enclosing characters in quotes. We can declare an String by VariableName = “string”."
   ]
  },
  {
   "cell_type": "code",
   "execution_count": 6,
   "id": "15a51bc7",
   "metadata": {},
   "outputs": [
    {
     "name": "stdout",
     "output_type": "stream",
     "text": [
      "Raj\n"
     ]
    }
   ],
   "source": [
    "#Example:\n",
    "a = \"Raj\"\n",
    "print(a)"
   ]
  },
  {
   "cell_type": "markdown",
   "id": "5661093f",
   "metadata": {},
   "source": [
    "3.\tList: A list is an ordered collection of or sequence of items. In Python lists are mutable means the elements of the list can be changed after they are created. In list the items stored can be of any type numeric, string, boolean, objects, etc which makes it heterogeneous. List support indexing and slicing to access and modify their element. We can declare a list like  VariableName = ['item 1','item 2',....'item n']"
   ]
  },
  {
   "cell_type": "code",
   "execution_count": 9,
   "id": "300822b0",
   "metadata": {},
   "outputs": [
    {
     "name": "stdout",
     "output_type": "stream",
     "text": [
      "['Yamaha R1M', 'BMW S 1000 RR', 'Ninja ZX-10R', 'Suzuki Hayabusa', 'Honda CBR 1000RR']\n"
     ]
    }
   ],
   "source": [
    "Bikes = ['Yamaha R1M', 'BMW S 1000 RR', 'Ninja ZX-10R', 'Suzuki Hayabusa', 'Honda CBR 1000RR']\n",
    "print(Bikes)"
   ]
  },
  {
   "cell_type": "markdown",
   "id": "97a78332",
   "metadata": {},
   "source": [
    "# 4. What is an expression made up of? What do all expressions do?"
   ]
  },
  {
   "cell_type": "markdown",
   "id": "f2ec9b3a",
   "metadata": {},
   "source": [
    "Answer: \n",
    "    \n",
    "    Expression in Python is basically the combination of values, variables, operators, and calls to functions. \n",
    "    \n",
    "    Expressions need to be evaluated. \n",
    "    \n",
    "    If you ask Python to print an expression, the interpreter evaluates the expression and displays the result. \n",
    "    \n",
    "    Expressions are representations of value."
   ]
  },
  {
   "cell_type": "markdown",
   "id": "eafe5afa",
   "metadata": {},
   "source": [
    "# 5. This assignment statements, like spam = 10. What is the difference between an expression and a statement?"
   ]
  },
  {
   "cell_type": "markdown",
   "id": "2eca29ee",
   "metadata": {},
   "source": [
    "Answer: \n",
    "\n",
    "    Expressions are representations of value. \n",
    "    \n",
    "    They are different from statements in the fact that statements do something while expressions are representations of value. \n",
    "    \n",
    "    Expressions can be assigned or used as operands, while statements can only be declared. \n",
    "    \n",
    "    Statements create side effects to be useful, while expressions are values or execute to values."
   ]
  },
  {
   "cell_type": "markdown",
   "id": "e37d2b08",
   "metadata": {},
   "source": [
    "# 6. After running the following code, what does the variable bacon contain?\n",
    "bacon = 22\n",
    "\n",
    "bacon + 1"
   ]
  },
  {
   "cell_type": "code",
   "execution_count": 12,
   "id": "bd2dd3c7",
   "metadata": {},
   "outputs": [
    {
     "name": "stdout",
     "output_type": "stream",
     "text": [
      "variable bacon contains 22\n"
     ]
    }
   ],
   "source": [
    "bacon = 22\n",
    "bacon + 1\n",
    "print(\"variable bacon contains\",bacon)"
   ]
  },
  {
   "cell_type": "markdown",
   "id": "8f8648ac",
   "metadata": {},
   "source": [
    "# 7. What should the values of the following two terms be?\n",
    "\n",
    "'spam' + 'spamspam'\n",
    "\n",
    "'spam' * 3"
   ]
  },
  {
   "cell_type": "code",
   "execution_count": 1,
   "id": "b0149f79",
   "metadata": {},
   "outputs": [
    {
     "name": "stdout",
     "output_type": "stream",
     "text": [
      "spamspamspam\n",
      "spamspamspam\n"
     ]
    }
   ],
   "source": [
    "print('spam' + 'spamspam')\n",
    "print('spam' * 3)"
   ]
  },
  {
   "cell_type": "markdown",
   "id": "8f13c997",
   "metadata": {},
   "source": [
    "# 8. Why is eggs a valid variable name while 100 is invalid?"
   ]
  },
  {
   "cell_type": "markdown",
   "id": "0b90387f",
   "metadata": {},
   "source": [
    "Answer: \n",
    "\n",
    "    Same as other programming languages doesn't allow variable names to begin with numbers because those are the rules of the language design. \n",
    "\n",
    "    So eggs is the valid variable where it starts with character e, but on the other side, 100 is an invalid variable name because it starts with 1."
   ]
  },
  {
   "cell_type": "markdown",
   "id": "df3afff5",
   "metadata": {},
   "source": [
    "# 9. What three functions can be used to get the integer, floating-point number, or string version of a value?"
   ]
  },
  {
   "cell_type": "markdown",
   "id": "4eb55f69",
   "metadata": {},
   "source": [
    "Answer: \n",
    "    \n",
    "    The int(), float(), and str() functions will evaluate the integer, floating-point number, and string versions of the value passed to them."
   ]
  },
  {
   "cell_type": "markdown",
   "id": "924df7ec",
   "metadata": {},
   "source": [
    "# 10. Why does this expression cause an error? How can you fix it?\n",
    "'I have eaten ' + 99 + ' burritos.'\n"
   ]
  },
  {
   "cell_type": "markdown",
   "id": "9cb7e760",
   "metadata": {},
   "source": [
    "Because by using + we can only concatenate strings, not integers. To fix it I have two solutions:"
   ]
  },
  {
   "cell_type": "code",
   "execution_count": 2,
   "id": "a0a2b988",
   "metadata": {},
   "outputs": [
    {
     "name": "stdout",
     "output_type": "stream",
     "text": [
      "I have eaten  99  burritos.\n"
     ]
    }
   ],
   "source": [
    "#1st: we can use comma instead of + operator.\n",
    "print('I have eaten ',99,' burritos.')"
   ]
  },
  {
   "cell_type": "code",
   "execution_count": 3,
   "id": "2950e4bf",
   "metadata": {},
   "outputs": [
    {
     "name": "stdout",
     "output_type": "stream",
     "text": [
      "I have eaten 99 burritos.\n"
     ]
    }
   ],
   "source": [
    "#2nd: we can add quotes around 99 and keep the + operator as it is which makes 99 strings.\n",
    "print('I have eaten ' + '99' + ' burritos.')"
   ]
  }
 ],
 "metadata": {
  "kernelspec": {
   "display_name": "Python 3 (ipykernel)",
   "language": "python",
   "name": "python3"
  },
  "language_info": {
   "codemirror_mode": {
    "name": "ipython",
    "version": 3
   },
   "file_extension": ".py",
   "mimetype": "text/x-python",
   "name": "python",
   "nbconvert_exporter": "python",
   "pygments_lexer": "ipython3",
   "version": "3.9.12"
  }
 },
 "nbformat": 4,
 "nbformat_minor": 5
}
